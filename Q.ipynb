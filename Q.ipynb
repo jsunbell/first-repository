{
  "nbformat": 4,
  "nbformat_minor": 0,
  "metadata": {
    "colab": {
      "provenance": [],
      "authorship_tag": "ABX9TyNXgD8bP7142KoOTobvMvWp",
      "include_colab_link": true
    },
    "kernelspec": {
      "name": "python3",
      "display_name": "Python 3"
    },
    "language_info": {
      "name": "python"
    }
  },
  "cells": [
    {
      "cell_type": "markdown",
      "metadata": {
        "id": "view-in-github",
        "colab_type": "text"
      },
      "source": [
        "<a href=\"https://colab.research.google.com/github/jsunbell/first-repository/blob/master/Untitled1.ipynb\" target=\"_parent\"><img src=\"https://colab.research.google.com/assets/colab-badge.svg\" alt=\"Open In Colab\"/></a>"
      ]
    },
    {
      "cell_type": "code",
      "execution_count": null,
      "metadata": {
        "id": "ggBiwVid0GcT"
      },
      "outputs": [],
      "source": [
        "Code Peer Review Templete\n",
        "코더 : 노유현\n",
        "리뷰어 : 정선종\n",
        "\n",
        "PRT(PeerReviewTemplate)\n",
        "각 항목을 스스로 확인하고 체크하고 확인하여 작성한 코드에 적용하세요.\n",
        "\n",
        "[]코드가 정상적으로 동작하고 주어진 문제를 해결했나요?\n",
        "[x] 주석을 보고 작성자의 코드가 이해되었나요?\n",
        "[] 코드가 에러를 유발할 가능성이 있나요?\n",
        "[x]코드 작성자가 코드를 제대로 이해하고 작성했나요? (직접 인터뷰해보기)\n",
        "[x]코드가 간결한가요?\n",
        "예시\n",
        "코드의 작동 방식을 주석으로 기록합니다.\n",
        "\n",
        "코드의 작동 방식에 대한 개선 방법을 주석으로 기록합니다.\n",
        "\n",
        "참고한 링크 및 ChatGPT 프롬프트 명령어가 있다면 주석으로 남겨주세요.\n",
        "\n",
        "\n",
        "\n",
        "\n",
        "\n",
        "\n",
        "\n",
        "f = open(\"/content/06TheAvengers.txt\", 'r')\n",
        "data = f.read()\n",
        "print(data)\n",
        "f.close()\n",
        "\n",
        "data_low = data.lower()\n",
        "words = data_low.split()\n",
        "# print(words)\n",
        "for i in words:\n",
        "words2 = i.split(\"'\")\n",
        "# print(words2)\n",
        "for i in words2:\n",
        "\n",
        "list(zip(words2, words2[1:]))\n",
        "\n",
        "\n",
        "\n",
        "\n",
        "참고 링크 및 코드 개선 여부...\n",
        "#\n",
        "#코드를 다 정확히 알고 코딩하신 부분이 멋있었습니다!\n",
        "#"
      ]
    }
  ]
}
